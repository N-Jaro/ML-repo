{
 "cells": [
  {
   "cell_type": "code",
   "execution_count": null,
   "metadata": {},
   "outputs": [],
   "source": []
  }
 ],
 "metadata": {
  "kernelspec": {
   "display_name": "Python 3.7.9 ('tensorflow-gpu')",
   "language": "python",
   "name": "python3"
  },
  "language_info": {
   "name": "python",
   "version": "3.7.9"
  },
  "vscode": {
   "interpreter": {
    "hash": "95875376d21992e2bb2dfb532dd42fa3f9007a202209eebfcd016b20cc8adbec"
   }
  }
 },
 "nbformat": 4,
 "nbformat_minor": 2
}
